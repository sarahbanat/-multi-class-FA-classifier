{
 "cells": [
  {
   "cell_type": "code",
   "execution_count": 1,
   "metadata": {
    "id": "Mo_SuVZ4mQ1K"
   },
   "outputs": [],
   "source": [
    "# Import Needed libraries\n",
    "import pandas as pd\n",
    "from sklearn.preprocessing import StandardScaler\n",
    "from sklearn.utils import shuffle\n",
    "from sklearn.ensemble import RandomForestRegressor\n",
    "from sklearn.datasets import make_regression\n",
    "from sklearn.metrics import mean_squared_error, r2_score\n",
    "from sklearn.model_selection import cross_val_score,StratifiedKFold,KFold\n",
    "from sklearn.metrics import mean_absolute_error\n",
    "import math\n",
    "from sklearn.metrics import make_scorer\n",
    "import csv\n",
    "import numpy as np\n",
    "import copy as cp\n",
    "import matplotlib.pyplot as plt\n",
    "from sklearn.multiclass import OneVsOneClassifier\n",
    "import seaborn as sns\n",
    "from typing import Tuple\n",
    "from sklearn.model_selection import train_test_split\n",
    "import fnmatch\n",
    "import os\n",
    "from sklearn.metrics import classification_report, confusion_matrix\n",
    "from sklearn.svm import LinearSVC\n",
    "from sklearn.model_selection import cross_validate, StratifiedKFold, cross_val_predict"
   ]
  },
  {
   "cell_type": "code",
   "execution_count": null,
   "metadata": {
    "colab": {
     "base_uri": "https://localhost:8080/"
    },
    "id": "w743Xyc_qrhN",
    "outputId": "bab4963c-ee53-4480-f8f6-c569a5c6a179"
   },
   "outputs": [],
   "source": [
    "FILE_DIRECTORY =  \"/Users/sarahbanat/Desktop/Research/39BusWAttacks/\"\n"
   ]
  },
  {
   "cell_type": "code",
   "execution_count": null,
   "metadata": {
    "id": "NyrVoQjmt3A3"
   },
   "outputs": [],
   "source": [
    "import pandas as pd\n",
    "\n",
    "# Adjust the path based on the location of your file in Google Drive\n",
    "file_path = 'data/data.csv'\n",
    "table = pd.read_csv(file_path)\n",
    "#table.drop_duplicates(inplace=True)\n"
   ]
  },
  {
   "cell_type": "code",
   "execution_count": 6,
   "metadata": {
    "colab": {
     "base_uri": "https://localhost:8080/"
    },
    "id": "sN8B--5bmyE_",
    "outputId": "63f958c2-29df-482e-a8fc-f65fecbc71da"
   },
   "outputs": [
    {
     "name": "stdout",
     "output_type": "stream",
     "text": [
      "['Flag', 'Normal_Mode_Case', 'Fault_Mode_Case', 'Fault_Type', 'Fault_Location', 'X', 'Attack_Type', 'Attack_Case', 'V1_Mag', 'V1_Ang', 'V1_zero', 'V1_F_Undershoot', 'V1_F_Overshoot', 'V1_F_OS_Time', 'V1_F_Sett_Time', 'V1_ROCOF', 'V1_F_Range', 'I1_Mag', 'I1_Ang', 'I1_zero', 'I1_F_Undershoot', 'I1_F_Overshoot', 'I1_F_OS_Time', 'I1_F_Sett_Time', 'I1_ROCOF', 'I1_F_Range', 'V2_Mag', 'V2_Ang', 'V2_zero', 'V2_F_Undershoot', 'V2_F_Overshoot', 'V2_F_OS_Time', 'V2_F_Sett_Time', 'V2_ROCOF', 'V2_F_Range', 'I2_Mag', 'I2_Ang', 'I2_zero', 'I2_F_Undershoot', 'I2_F_Overshoot', 'I2_F_OS_Time', 'I2_F_Sett_Time', 'I2_ROCOF', 'I2_F_Range', 'V3_Mag', 'V3_Ang', 'V3_zero', 'V3_F_Undershoot', 'V3_F_Overshoot', 'V3_F_OS_Time', 'V3_F_Sett_Time', 'V3_ROCOF', 'V3_F_Range', 'I3_Mag', 'I3_Ang', 'I3_zero', 'I3_F_Undershoot', 'I3_F_Overshoot', 'I3_F_OS_Time', 'I3_F_Sett_Time', 'I3_ROCOF', 'I3_F_Range', 'V4_Mag', 'V4_Ang', 'V4_zero', 'V4_F_Undershoot', 'V4_F_Overshoot', 'V4_F_OS_Time', 'V4_F_Sett_Time', 'V4_ROCOF', 'V4_F_Range', 'I4_Mag', 'I4_Ang', 'I4_zero', 'I4_F_Undershoot', 'I4_F_Overshoot', 'I4_F_OS_Time', 'I4_F_Sett_Time', 'I4_ROCOF', 'I4_F_Range', 'V5_Mag', 'V5_Ang', 'V5_zero', 'V5_F_Undershoot', 'V5_F_Overshoot', 'V5_F_OS_Time', 'V5_F_Sett_Time', 'V5_ROCOF', 'V5_F_Range', 'I5_Mag', 'I5_Ang', 'I5_zero', 'I5_F_Undershoot', 'I5_F_Overshoot', 'I5_F_OS_Time', 'I5_F_Sett_Time', 'I5_ROCOF', 'I5_F_Range', 'V6_Mag', 'V6_Ang', 'V6_zero', 'V6_F_Undershoot', 'V6_F_Overshoot', 'V6_F_OS_Time', 'V6_F_Sett_Time', 'V6_ROCOF', 'V6_F_Range', 'I6_Mag', 'I6_Ang', 'I6_zero', 'I6_F_Undershoot', 'I6_F_Overshoot', 'I6_F_OS_Time', 'I6_F_Sett_Time', 'I6_ROCOF', 'I6_F_Range', 'V7_Mag', 'V7_Ang', 'V7_zero', 'V7_F_Undershoot', 'V7_F_Overshoot', 'V7_F_OS_Time', 'V7_F_Sett_Time', 'V7_ROCOF', 'V7_F_Range', 'I7_Mag', 'I7_Ang', 'I7_zero', 'I7_F_Undershoot', 'I7_F_Overshoot', 'I7_F_OS_Time', 'I7_F_Sett_Time', 'I7_ROCOF', 'I7_F_Range', 'V8_Mag', 'V8_Ang', 'V8_zero', 'V8_F_Undershoot', 'V8_F_Overshoot', 'V8_F_OS_Time', 'V8_F_Sett_Time', 'V8_ROCOF', 'V8_F_Range', 'I8_Mag', 'I8_Ang', 'I8_zero', 'I8_F_Undershoot', 'I8_F_Overshoot', 'I8_F_OS_Time', 'I8_F_Sett_Time', 'I8_ROCOF', 'I8_F_Range', 'V9_Mag', 'V9_Ang', 'V9_zero', 'V9_F_Undershoot', 'V9_F_Overshoot', 'V9_F_OS_Time', 'V9_F_Sett_Time', 'V9_ROCOF', 'V9_F_Range', 'I9_Mag', 'I9_Ang', 'I9_zero', 'I9_F_Undershoot', 'I9_F_Overshoot', 'I9_F_OS_Time', 'I9_F_Sett_Time', 'I9_ROCOF', 'I9_F_Range', 'V10_Mag', 'V10_Ang', 'V10_zero', 'V10_F_Undershoot', 'V10_F_Overshoot', 'V10_F_OS_Time', 'V10_F_Sett_Time', 'V10_ROCOF', 'V10_F_Range', 'I10_Mag', 'I10_Ang', 'I10_zero', 'I10_F_Undershoot', 'I10_F_Overshoot', 'I10_F_OS_Time', 'I10_F_Sett_Time', 'I10_ROCOF', 'I10_F_Range', 'V11_Mag', 'V11_Ang', 'V11_zero', 'V11_F_Undershoot', 'V11_F_Overshoot', 'V11_F_OS_Time', 'V11_F_Sett_Time', 'V11_ROCOF', 'V11_F_Range', 'I11_Mag', 'I11_Ang', 'I11_zero', 'I11_F_Undershoot', 'I11_F_Overshoot', 'I11_F_OS_Time', 'I11_F_Sett_Time', 'I11_ROCOF', 'I11_F_Range', 'V12_Mag', 'V12_Ang', 'V12_zero', 'V12_F_Undershoot', 'V12_F_Overshoot', 'V12_F_OS_Time', 'V12_F_Sett_Time', 'V12_ROCOF', 'V12_F_Range', 'I12_Mag', 'I12_Ang', 'I12_zero', 'I12_F_Undershoot', 'I12_F_Overshoot', 'I12_F_OS_Time', 'I12_F_Sett_Time', 'I12_ROCOF', 'I12_F_Range', 'V13_Mag', 'V13_Ang', 'V13_zero', 'V13_F_Undershoot', 'V13_F_Overshoot', 'V13_F_OS_Time', 'V13_F_Sett_Time', 'V13_ROCOF', 'V13_F_Range', 'I13_Mag', 'I13_Ang', 'I13_zero', 'I13_F_Undershoot', 'I13_F_Overshoot', 'I13_F_OS_Time', 'I13_F_Sett_Time', 'I13_ROCOF', 'I13_F_Range', 'V14_Mag', 'V14_Ang', 'V14_zero', 'V14_F_Undershoot', 'V14_F_Overshoot', 'V14_F_OS_Time', 'V14_F_Sett_Time', 'V14_ROCOF', 'V14_F_Range', 'I14_Mag', 'I14_Ang', 'I14_zero', 'I14_F_Undershoot', 'I14_F_Overshoot', 'I14_F_OS_Time', 'I14_F_Sett_Time', 'I14_ROCOF', 'I14_F_Range', 'V15_Mag', 'V15_Ang', 'V15_zero', 'V15_F_Undershoot', 'V15_F_Overshoot', 'V15_F_OS_Time', 'V15_F_Sett_Time', 'V15_ROCOF', 'V15_F_Range', 'I15_Mag', 'I15_Ang', 'I15_zero', 'I15_F_Undershoot', 'I15_F_Overshoot', 'I15_F_OS_Time', 'I15_F_Sett_Time', 'I15_ROCOF', 'I15_F_Range', 'V16_Mag', 'V16_Ang', 'V16_zero', 'V16_F_Undershoot', 'V16_F_Overshoot', 'V16_F_OS_Time', 'V16_F_Sett_Time', 'V16_ROCOF', 'V16_F_Range', 'I16_Mag', 'I16_Ang', 'I16_zero', 'I16_F_Undershoot', 'I16_F_Overshoot', 'I16_F_OS_Time', 'I16_F_Sett_Time', 'I16_ROCOF', 'I16_F_Range', 'V17_Mag', 'V17_Ang', 'V17_zero', 'V17_F_Undershoot', 'V17_F_Overshoot', 'V17_F_OS_Time', 'V17_F_Sett_Time', 'V17_ROCOF', 'V17_F_Range', 'I17_Mag', 'I17_Ang', 'I17_zero', 'I17_F_Undershoot', 'I17_F_Overshoot', 'I17_F_OS_Time', 'I17_F_Sett_Time', 'I17_ROCOF', 'I17_F_Range', 'V18_Mag', 'V18_Ang', 'V18_zero', 'V18_F_Undershoot', 'V18_F_Overshoot', 'V18_F_OS_Time', 'V18_F_Sett_Time', 'V18_ROCOF', 'V18_F_Range', 'I18_Mag', 'I18_Ang', 'I18_zero', 'I18_F_Undershoot', 'I18_F_Overshoot', 'I18_F_OS_Time', 'I18_F_Sett_Time', 'I18_ROCOF', 'I18_F_Range', 'V19_Mag', 'V19_Ang', 'V19_zero', 'V19_F_Undershoot', 'V19_F_Overshoot', 'V19_F_OS_Time', 'V19_F_Sett_Time', 'V19_ROCOF', 'V19_F_Range', 'I19_Mag', 'I19_Ang', 'I19_zero', 'I19_F_Undershoot', 'I19_F_Overshoot', 'I19_F_OS_Time', 'I19_F_Sett_Time', 'I19_ROCOF', 'I19_F_Range', 'V20_Mag', 'V20_Ang', 'V20_zero', 'V20_F_Undershoot', 'V20_F_Overshoot', 'V20_F_OS_Time', 'V20_F_Sett_Time', 'V20_ROCOF', 'V20_F_Range', 'I20_Mag', 'I20_Ang', 'I20_zero', 'I20_F_Undershoot', 'I20_F_Overshoot', 'I20_F_OS_Time', 'I20_F_Sett_Time', 'I20_ROCOF', 'I20_F_Range', 'V21_Mag', 'V21_Ang', 'V21_zero', 'V21_F_Undershoot', 'V21_F_Overshoot', 'V21_F_OS_Time', 'V21_F_Sett_Time', 'V21_ROCOF', 'V21_F_Range', 'I21_Mag', 'I21_Ang', 'I21_zero', 'I21_F_Undershoot', 'I21_F_Overshoot', 'I21_F_OS_Time', 'I21_F_Sett_Time', 'I21_ROCOF', 'I21_F_Range', 'V22_Mag', 'V22_Ang', 'V22_zero', 'V22_F_Undershoot', 'V22_F_Overshoot', 'V22_F_OS_Time', 'V22_F_Sett_Time', 'V22_ROCOF', 'V22_F_Range', 'I22_Mag', 'I22_Ang', 'I22_zero', 'I22_F_Undershoot', 'I22_F_Overshoot', 'I22_F_OS_Time', 'I22_F_Sett_Time', 'I22_ROCOF', 'I22_F_Range', 'V23_Mag', 'V23_Ang', 'V23_zero', 'V23_F_Undershoot', 'V23_F_Overshoot', 'V23_F_OS_Time', 'V23_F_Sett_Time', 'V23_ROCOF', 'V23_F_Range', 'I23_Mag', 'I23_Ang', 'I23_zero', 'I23_F_Undershoot', 'I23_F_Overshoot', 'I23_F_OS_Time', 'I23_F_Sett_Time', 'I23_ROCOF', 'I23_F_Range', 'V24_Mag', 'V24_Ang', 'V24_zero', 'V24_F_Undershoot', 'V24_F_Overshoot', 'V24_F_OS_Time', 'V24_F_Sett_Time', 'V24_ROCOF', 'V24_F_Range', 'I24_Mag', 'I24_Ang', 'I24_zero', 'I24_F_Undershoot', 'I24_F_Overshoot', 'I24_F_OS_Time', 'I24_F_Sett_Time', 'I24_ROCOF', 'I24_F_Range', 'V25_Mag', 'V25_Ang', 'V25_zero', 'V25_F_Undershoot', 'V25_F_Overshoot', 'V25_F_OS_Time', 'V25_F_Sett_Time', 'V25_ROCOF', 'V25_F_Range', 'I25_Mag', 'I25_Ang', 'I25_zero', 'I25_F_Undershoot', 'I25_F_Overshoot', 'I25_F_OS_Time', 'I25_F_Sett_Time', 'I25_ROCOF', 'I25_F_Range', 'V26_Mag', 'V26_Ang', 'V26_zero', 'V26_F_Undershoot', 'V26_F_Overshoot', 'V26_F_OS_Time', 'V26_F_Sett_Time', 'V26_ROCOF', 'V26_F_Range', 'I26_Mag', 'I26_Ang', 'I26_zero', 'I26_F_Undershoot', 'I26_F_Overshoot', 'I26_F_OS_Time', 'I26_F_Sett_Time', 'I26_ROCOF', 'I26_F_Range', 'V27_Mag', 'V27_Ang', 'V27_zero', 'V27_F_Undershoot', 'V27_F_Overshoot', 'V27_F_OS_Time', 'V27_F_Sett_Time', 'V27_ROCOF', 'V27_F_Range', 'I27_Mag', 'I27_Ang', 'I27_zero', 'I27_F_Undershoot', 'I27_F_Overshoot', 'I27_F_OS_Time', 'I27_F_Sett_Time', 'I27_ROCOF', 'I27_F_Range', 'V28_Mag', 'V28_Ang', 'V28_zero', 'V28_F_Undershoot', 'V28_F_Overshoot', 'V28_F_OS_Time', 'V28_F_Sett_Time', 'V28_ROCOF', 'V28_F_Range', 'I28_Mag', 'I28_Ang', 'I28_zero', 'I28_F_Undershoot', 'I28_F_Overshoot', 'I28_F_OS_Time', 'I28_F_Sett_Time', 'I28_ROCOF', 'I28_F_Range', 'V29_Mag', 'V29_Ang', 'V29_zero', 'V29_F_Undershoot', 'V29_F_Overshoot', 'V29_F_OS_Time', 'V29_F_Sett_Time', 'V29_ROCOF', 'V29_F_Range', 'I29_Mag', 'I29_Ang', 'I29_zero', 'I29_F_Undershoot', 'I29_F_Overshoot', 'I29_F_OS_Time', 'I29_F_Sett_Time', 'I29_ROCOF', 'I29_F_Range', 'V30_Mag', 'V30_Ang', 'V30_zero', 'V30_F_Undershoot', 'V30_F_Overshoot', 'V30_F_OS_Time', 'V30_F_Sett_Time', 'V30_ROCOF', 'V30_F_Range', 'I30_Mag', 'I30_Ang', 'I30_zero', 'I30_F_Undershoot', 'I30_F_Overshoot', 'I30_F_OS_Time', 'I30_F_Sett_Time', 'I30_ROCOF', 'I30_F_Range', 'V31_Mag', 'V31_Ang', 'V31_zero', 'V31_F_Undershoot', 'V31_F_Overshoot', 'V31_F_OS_Time', 'V31_F_Sett_Time', 'V31_ROCOF', 'V31_F_Range', 'I31_Mag', 'I31_Ang', 'I31_zero', 'I31_F_Undershoot', 'I31_F_Overshoot', 'I31_F_OS_Time', 'I31_F_Sett_Time', 'I31_ROCOF', 'I31_F_Range', 'V32_Mag', 'V32_Ang', 'V32_zero', 'V32_F_Undershoot', 'V32_F_Overshoot', 'V32_F_OS_Time', 'V32_F_Sett_Time', 'V32_ROCOF', 'V32_F_Range', 'I32_Mag', 'I32_Ang', 'I32_zero', 'I32_F_Undershoot', 'I32_F_Overshoot', 'I32_F_OS_Time', 'I32_F_Sett_Time', 'I32_ROCOF', 'I32_F_Range', 'V33_Mag', 'V33_Ang', 'V33_zero', 'V33_F_Undershoot', 'V33_F_Overshoot', 'V33_F_OS_Time', 'V33_F_Sett_Time', 'V33_ROCOF', 'V33_F_Range', 'I33_Mag', 'I33_Ang', 'I33_zero', 'I33_F_Undershoot', 'I33_F_Overshoot', 'I33_F_OS_Time', 'I33_F_Sett_Time', 'I33_ROCOF', 'I33_F_Range', 'V34_Mag', 'V34_Ang', 'V34_zero', 'V34_F_Undershoot', 'V34_F_Overshoot', 'V34_F_OS_Time', 'V34_F_Sett_Time', 'V34_ROCOF', 'V34_F_Range', 'I34_Mag', 'I34_Ang', 'I34_zero', 'I34_F_Undershoot', 'I34_F_Overshoot', 'I34_F_OS_Time', 'I34_F_Sett_Time', 'I34_ROCOF', 'I34_F_Range', 'V35_Mag', 'V35_Ang', 'V35_zero', 'V35_F_Undershoot', 'V35_F_Overshoot', 'V35_F_OS_Time', 'V35_F_Sett_Time', 'V35_ROCOF', 'V35_F_Range', 'I35_Mag', 'I35_Ang', 'I35_zero', 'I35_F_Undershoot', 'I35_F_Overshoot', 'I35_F_OS_Time', 'I35_F_Sett_Time', 'I35_ROCOF', 'I35_F_Range', 'V36_Mag', 'V36_Ang', 'V36_zero', 'V36_F_Undershoot', 'V36_F_Overshoot', 'V36_F_OS_Time', 'V36_F_Sett_Time', 'V36_ROCOF', 'V36_F_Range', 'I36_Mag', 'I36_Ang', 'I36_zero', 'I36_F_Undershoot', 'I36_F_Overshoot', 'I36_F_OS_Time', 'I36_F_Sett_Time', 'I36_ROCOF', 'I36_F_Range', 'V37_Mag', 'V37_Ang', 'V37_zero', 'V37_F_Undershoot', 'V37_F_Overshoot', 'V37_F_OS_Time', 'V37_F_Sett_Time', 'V37_ROCOF', 'V37_F_Range', 'I37_Mag', 'I37_Ang', 'I37_zero', 'I37_F_Undershoot', 'I37_F_Overshoot', 'I37_F_OS_Time', 'I37_F_Sett_Time', 'I37_ROCOF', 'I37_F_Range', 'V38_Mag', 'V38_Ang', 'V38_zero', 'V38_F_Undershoot', 'V38_F_Overshoot', 'V38_F_OS_Time', 'V38_F_Sett_Time', 'V38_ROCOF', 'V38_F_Range', 'I38_Mag', 'I38_Ang', 'I38_zero', 'I38_F_Undershoot', 'I38_F_Overshoot', 'I38_F_OS_Time', 'I38_F_Sett_Time', 'I38_ROCOF', 'I38_F_Range', 'V39_Mag', 'V39_Ang', 'V39_zero', 'V39_F_Undershoot', 'V39_F_Overshoot', 'V39_F_OS_Time', 'V39_F_Sett_Time', 'V39_ROCOF', 'V39_F_Range', 'I39_Mag', 'I39_Ang', 'I39_zero', 'I39_F_Undershoot', 'I39_F_Overshoot', 'I39_F_OS_Time', 'I39_F_Sett_Time', 'I39_ROCOF', 'I39_F_Range']\n"
     ]
    }
   ],
   "source": [
    "\n",
    "\n",
    "# replace Nan with 0\n",
    "table = table.fillna(0)\n",
    "\n",
    "# drop the first row in the dataset since it is the only one with Fault_type =0 and Fault_location = 0\n",
    "\n",
    "#table = table.drop(0)\n",
    "\n",
    "\n",
    "#shuffle the data\n",
    "table = shuffle(table, random_state=42)\n",
    "table.reset_index(inplace=True, drop=True)\n",
    "\n",
    "# print the columns names\n",
    "column_names = list(table.columns.values)\n",
    "print (column_names)\n"
   ]
  },
  {
   "cell_type": "markdown",
   "metadata": {},
   "source": []
  },
  {
   "cell_type": "code",
   "execution_count": 7,
   "metadata": {
    "colab": {
     "base_uri": "https://localhost:8080/",
     "height": 256
    },
    "id": "jl30wFsKoibI",
    "outputId": "079d4dfc-38d0-4d8f-b3e3-4e6a5e6a8381"
   },
   "outputs": [
    {
     "data": {
      "text/html": [
       "<div>\n",
       "<style scoped>\n",
       "    .dataframe tbody tr th:only-of-type {\n",
       "        vertical-align: middle;\n",
       "    }\n",
       "\n",
       "    .dataframe tbody tr th {\n",
       "        vertical-align: top;\n",
       "    }\n",
       "\n",
       "    .dataframe thead th {\n",
       "        text-align: right;\n",
       "    }\n",
       "</style>\n",
       "<table border=\"1\" class=\"dataframe\">\n",
       "  <thead>\n",
       "    <tr style=\"text-align: right;\">\n",
       "      <th></th>\n",
       "      <th>Flag</th>\n",
       "      <th>Normal_Mode_Case</th>\n",
       "      <th>Fault_Mode_Case</th>\n",
       "      <th>Fault_Type</th>\n",
       "      <th>Fault_Location</th>\n",
       "      <th>X</th>\n",
       "      <th>Attack_Type</th>\n",
       "      <th>Attack_Case</th>\n",
       "      <th>V1_Mag</th>\n",
       "      <th>V1_Ang</th>\n",
       "      <th>...</th>\n",
       "      <th>V39_F_Range</th>\n",
       "      <th>I39_Mag</th>\n",
       "      <th>I39_Ang</th>\n",
       "      <th>I39_zero</th>\n",
       "      <th>I39_F_Undershoot</th>\n",
       "      <th>I39_F_Overshoot</th>\n",
       "      <th>I39_F_OS_Time</th>\n",
       "      <th>I39_F_Sett_Time</th>\n",
       "      <th>I39_ROCOF</th>\n",
       "      <th>I39_F_Range</th>\n",
       "    </tr>\n",
       "  </thead>\n",
       "  <tbody>\n",
       "    <tr>\n",
       "      <th>0</th>\n",
       "      <td>1</td>\n",
       "      <td>322</td>\n",
       "      <td>0</td>\n",
       "      <td>0</td>\n",
       "      <td>0</td>\n",
       "      <td>0.00</td>\n",
       "      <td>4</td>\n",
       "      <td>7</td>\n",
       "      <td>289476.7714</td>\n",
       "      <td>-14.076924</td>\n",
       "      <td>...</td>\n",
       "      <td>0.000775</td>\n",
       "      <td>165.517999</td>\n",
       "      <td>10.360905</td>\n",
       "      <td>2.780000e-07</td>\n",
       "      <td>59.997109</td>\n",
       "      <td>59.997886</td>\n",
       "      <td>0.000000</td>\n",
       "      <td>0.000260</td>\n",
       "      <td>0.000000</td>\n",
       "      <td>0.000777</td>\n",
       "    </tr>\n",
       "    <tr>\n",
       "      <th>1</th>\n",
       "      <td>1</td>\n",
       "      <td>938</td>\n",
       "      <td>0</td>\n",
       "      <td>0</td>\n",
       "      <td>0</td>\n",
       "      <td>0.00</td>\n",
       "      <td>1</td>\n",
       "      <td>1</td>\n",
       "      <td>288976.7676</td>\n",
       "      <td>-14.304571</td>\n",
       "      <td>...</td>\n",
       "      <td>0.000775</td>\n",
       "      <td>2183.294912</td>\n",
       "      <td>-27.820193</td>\n",
       "      <td>1.730000e-07</td>\n",
       "      <td>59.997109</td>\n",
       "      <td>59.997886</td>\n",
       "      <td>0.000000</td>\n",
       "      <td>0.000260</td>\n",
       "      <td>0.000000</td>\n",
       "      <td>0.000778</td>\n",
       "    </tr>\n",
       "    <tr>\n",
       "      <th>2</th>\n",
       "      <td>2</td>\n",
       "      <td>24</td>\n",
       "      <td>4</td>\n",
       "      <td>1</td>\n",
       "      <td>14</td>\n",
       "      <td>0.25</td>\n",
       "      <td>0</td>\n",
       "      <td>0</td>\n",
       "      <td>284326.7215</td>\n",
       "      <td>-13.921060</td>\n",
       "      <td>...</td>\n",
       "      <td>0.001613</td>\n",
       "      <td>5820.952107</td>\n",
       "      <td>-77.207409</td>\n",
       "      <td>2.730000e-06</td>\n",
       "      <td>59.203811</td>\n",
       "      <td>60.083742</td>\n",
       "      <td>0.154167</td>\n",
       "      <td>0.085156</td>\n",
       "      <td>1.266557</td>\n",
       "      <td>0.879931</td>\n",
       "    </tr>\n",
       "    <tr>\n",
       "      <th>3</th>\n",
       "      <td>1</td>\n",
       "      <td>683</td>\n",
       "      <td>0</td>\n",
       "      <td>0</td>\n",
       "      <td>0</td>\n",
       "      <td>0.00</td>\n",
       "      <td>1</td>\n",
       "      <td>1</td>\n",
       "      <td>289840.5717</td>\n",
       "      <td>-13.933922</td>\n",
       "      <td>...</td>\n",
       "      <td>0.000775</td>\n",
       "      <td>3041.471221</td>\n",
       "      <td>-26.585736</td>\n",
       "      <td>4.320000e-07</td>\n",
       "      <td>59.997109</td>\n",
       "      <td>59.997886</td>\n",
       "      <td>0.000000</td>\n",
       "      <td>0.000260</td>\n",
       "      <td>0.000000</td>\n",
       "      <td>0.000777</td>\n",
       "    </tr>\n",
       "    <tr>\n",
       "      <th>4</th>\n",
       "      <td>1</td>\n",
       "      <td>93</td>\n",
       "      <td>0</td>\n",
       "      <td>0</td>\n",
       "      <td>0</td>\n",
       "      <td>0.00</td>\n",
       "      <td>1</td>\n",
       "      <td>1</td>\n",
       "      <td>289781.2349</td>\n",
       "      <td>-13.966074</td>\n",
       "      <td>...</td>\n",
       "      <td>0.000775</td>\n",
       "      <td>2426.941176</td>\n",
       "      <td>-26.518860</td>\n",
       "      <td>1.820000e-07</td>\n",
       "      <td>59.997109</td>\n",
       "      <td>59.997886</td>\n",
       "      <td>0.000000</td>\n",
       "      <td>0.000260</td>\n",
       "      <td>0.000000</td>\n",
       "      <td>0.000777</td>\n",
       "    </tr>\n",
       "  </tbody>\n",
       "</table>\n",
       "<p>5 rows × 710 columns</p>\n",
       "</div>"
      ],
      "text/plain": [
       "   Flag  Normal_Mode_Case  Fault_Mode_Case  Fault_Type  Fault_Location     X  \\\n",
       "0     1               322                0           0               0  0.00   \n",
       "1     1               938                0           0               0  0.00   \n",
       "2     2                24                4           1              14  0.25   \n",
       "3     1               683                0           0               0  0.00   \n",
       "4     1                93                0           0               0  0.00   \n",
       "\n",
       "   Attack_Type  Attack_Case       V1_Mag     V1_Ang  ...  V39_F_Range  \\\n",
       "0            4            7  289476.7714 -14.076924  ...     0.000775   \n",
       "1            1            1  288976.7676 -14.304571  ...     0.000775   \n",
       "2            0            0  284326.7215 -13.921060  ...     0.001613   \n",
       "3            1            1  289840.5717 -13.933922  ...     0.000775   \n",
       "4            1            1  289781.2349 -13.966074  ...     0.000775   \n",
       "\n",
       "       I39_Mag    I39_Ang      I39_zero  I39_F_Undershoot  I39_F_Overshoot  \\\n",
       "0   165.517999  10.360905  2.780000e-07         59.997109        59.997886   \n",
       "1  2183.294912 -27.820193  1.730000e-07         59.997109        59.997886   \n",
       "2  5820.952107 -77.207409  2.730000e-06         59.203811        60.083742   \n",
       "3  3041.471221 -26.585736  4.320000e-07         59.997109        59.997886   \n",
       "4  2426.941176 -26.518860  1.820000e-07         59.997109        59.997886   \n",
       "\n",
       "   I39_F_OS_Time  I39_F_Sett_Time  I39_ROCOF  I39_F_Range  \n",
       "0       0.000000         0.000260   0.000000     0.000777  \n",
       "1       0.000000         0.000260   0.000000     0.000778  \n",
       "2       0.154167         0.085156   1.266557     0.879931  \n",
       "3       0.000000         0.000260   0.000000     0.000777  \n",
       "4       0.000000         0.000260   0.000000     0.000777  \n",
       "\n",
       "[5 rows x 710 columns]"
      ]
     },
     "execution_count": 7,
     "metadata": {},
     "output_type": "execute_result"
    }
   ],
   "source": [
    "table.head()"
   ]
  },
  {
   "cell_type": "code",
   "execution_count": null,
   "metadata": {
    "id": "PmbrF5T2ulG4"
   },
   "outputs": [],
   "source": [
    "# Generate an array with the needed features\n",
    "column_names = list(table.columns.values)\n",
    "exp_num = 1\n",
    "exp_name = f\"Experiment {exp_num}\"\n"
   ]
  },
  {
   "cell_type": "code",
   "execution_count": 44,
   "metadata": {
    "colab": {
     "base_uri": "https://localhost:8080/"
    },
    "id": "amLGmUKVmivs",
    "outputId": "72a2cc8e-f79d-483e-ebb8-5e15e2c0254c"
   },
   "outputs": [
    {
     "name": "stdout",
     "output_type": "stream",
     "text": [
      "['Configuration', 'Normal_Mode_Case', 'Fault_flag', 'Fault_Mode_Case', 'Fault_Type', 'Fault_Location', 'Fault_Distance', 'V1_Mag', 'V1_Ang', 'V1_zero', 'V1_F_Undershoot', 'V1_F_Overshoot', 'V1_F_OS_Time', 'V1_F_Sett_Time', 'V1_ROCOF', 'V1_F_Range', 'I1_Mag', 'I1_Ang', 'I1_zero', 'I1_F_Undershoot', 'I1_F_Overshoot', 'I1_F_OS_Time', 'I1_F_Sett_Time', 'I1_ROCOF', 'I1_F_Range', 'V2_Mag', 'V2_Ang', 'V2_zero', 'V2_F_Undershoot', 'V2_F_Overshoot', 'V2_F_OS_Time', 'V2_F_Sett_Time', 'V2_ROCOF', 'V2_F_Range', 'I2_Mag', 'I2_Ang', 'I2_zero', 'I2_F_Undershoot', 'I2_F_Overshoot', 'I2_F_OS_Time', 'I2_F_Sett_Time', 'I2_ROCOF', 'I2_F_Range', 'V3_Mag', 'V3_Ang', 'V3_zero', 'V3_F_Undershoot', 'V3_F_Overshoot', 'V3_F_OS_Time', 'V3_F_Sett_Time', 'V3_ROCOF', 'V3_F_Range', 'I3_Mag', 'I3_Ang', 'I3_zero', 'I3_F_Undershoot', 'I3_F_Overshoot', 'I3_F_OS_Time', 'I3_F_Sett_Time', 'I3_ROCOF', 'I3_F_Range', 'V4_Mag', 'V4_Ang', 'V4_zero', 'V4_F_Undershoot', 'V4_F_Overshoot', 'V4_F_OS_Time', 'V4_F_Sett_Time', 'V4_ROCOF', 'V4_F_Range', 'I4_Mag', 'I4_Ang', 'I4_zero', 'I4_F_Undershoot', 'I4_F_Overshoot', 'I4_F_OS_Time', 'I4_F_Sett_Time', 'I4_ROCOF', 'I4_F_Range', 'V5_Mag', 'V5_Ang', 'V5_zero', 'V5_F_Undershoot', 'V5_F_Overshoot', 'V5_F_OS_Time', 'V5_F_Sett_Time', 'V5_ROCOF', 'V5_F_Range', 'I5_Mag', 'I5_Ang', 'I5_zero', 'I5_F_Undershoot', 'I5_F_Overshoot', 'I5_F_OS_Time', 'I5_F_Sett_Time', 'I5_ROCOF', 'I5_F_Range', 'V6_Mag', 'V6_Ang', 'V6_zero', 'V6_F_Undershoot', 'V6_F_Overshoot', 'V6_F_OS_Time', 'V6_F_Sett_Time', 'V6_ROCOF', 'V6_F_Range', 'I6_Mag', 'I6_Ang', 'I6_zero', 'I6_F_Undershoot', 'I6_F_Overshoot', 'I6_F_OS_Time', 'I6_F_Sett_Time', 'I6_ROCOF', 'I6_F_Range', 'V7_Mag', 'V7_Ang', 'V7_zero', 'V7_F_Undershoot', 'V7_F_Overshoot', 'V7_F_OS_Time', 'V7_F_Sett_Time', 'V7_ROCOF', 'V7_F_Range', 'I7_Mag', 'I7_Ang', 'I7_zero', 'I7_F_Undershoot', 'I7_F_Overshoot', 'I7_F_OS_Time', 'I7_F_Sett_Time', 'I7_ROCOF', 'I7_F_Range', 'V8_Mag', 'V8_Ang', 'V8_zero', 'V8_F_Undershoot', 'V8_F_Overshoot', 'V8_F_OS_Time', 'V8_F_Sett_Time', 'V8_ROCOF', 'V8_F_Range', 'I8_Mag', 'I8_Ang', 'I8_zero', 'I8_F_Undershoot', 'I8_F_Overshoot', 'I8_F_OS_Time', 'I8_F_Sett_Time', 'I8_ROCOF', 'I8_F_Range', 'V9_Mag', 'V9_Ang', 'V9_zero', 'V9_F_Undershoot', 'V9_F_Overshoot', 'V9_F_OS_Time', 'V9_F_Sett_Time', 'V9_ROCOF', 'V9_F_Range', 'I9_Mag', 'I9_Ang', 'I9_zero', 'I9_F_Undershoot', 'I9_F_Overshoot', 'I9_F_OS_Time', 'I9_F_Sett_Time', 'I9_ROCOF', 'I9_F_Range', 'V10_Mag', 'V10_Ang', 'V10_zero', 'V10_F_Undershoot', 'V10_F_Overshoot', 'V10_F_OS_Time', 'V10_F_Sett_Time', 'V10_ROCOF', 'V10_F_Range', 'I10_Mag', 'I10_Ang', 'I10_zero', 'I10_F_Undershoot', 'I10_F_Overshoot', 'I10_F_OS_Time', 'I10_F_Sett_Time', 'I10_ROCOF', 'I10_F_Range', 'V11_Mag', 'V11_Ang', 'V11_zero', 'V11_F_Undershoot', 'V11_F_Overshoot', 'V11_F_OS_Time', 'V11_F_Sett_Time', 'V11_ROCOF', 'V11_F_Range', 'I11_Mag', 'I11_Ang', 'I11_zero', 'I11_F_Undershoot', 'I11_F_Overshoot', 'I11_F_OS_Time', 'I11_F_Sett_Time', 'I11_ROCOF', 'I11_F_Range', 'V12_Mag', 'V12_Ang', 'V12_zero', 'V12_F_Undershoot', 'V12_F_Overshoot', 'V12_F_OS_Time', 'V12_F_Sett_Time', 'V12_ROCOF', 'V12_F_Range', 'I12_Mag', 'I12_Ang', 'I12_zero', 'I12_F_Undershoot', 'I12_F_Overshoot', 'I12_F_OS_Time', 'I12_F_Sett_Time', 'I12_ROCOF', 'I12_F_Range', 'V13_Mag', 'V13_Ang', 'V13_zero', 'V13_F_Undershoot', 'V13_F_Overshoot', 'V13_F_OS_Time', 'V13_F_Sett_Time', 'V13_ROCOF', 'V13_F_Range', 'I13_Mag', 'I13_Ang', 'I13_zero', 'I13_F_Undershoot', 'I13_F_Overshoot', 'I13_F_OS_Time', 'I13_F_Sett_Time', 'I13_ROCOF', 'I13_F_Range', 'V14_Mag', 'V14_Ang', 'V14_zero', 'V14_F_Undershoot', 'V14_F_Overshoot', 'V14_F_OS_Time', 'V14_F_Sett_Time', 'V14_ROCOF', 'V14_F_Range', 'I14_Mag', 'I14_Ang', 'I14_zero', 'I14_F_Undershoot', 'I14_F_Overshoot', 'I14_F_OS_Time', 'I14_F_Sett_Time', 'I14_ROCOF', 'I14_F_Range', 'V15_Mag', 'V15_Ang', 'V15_zero', 'V15_F_Undershoot', 'V15_F_Overshoot', 'V15_F_OS_Time', 'V15_F_Sett_Time', 'V15_ROCOF', 'V15_F_Range', 'I15_Mag', 'I15_Ang', 'I15_zero', 'I15_F_Undershoot', 'I15_F_Overshoot', 'I15_F_OS_Time', 'I15_F_Sett_Time', 'I15_ROCOF', 'I15_F_Range', 'V16_Mag', 'V16_Ang', 'V16_zero', 'V16_F_Undershoot', 'V16_F_Overshoot', 'V16_F_OS_Time', 'V16_F_Sett_Time', 'V16_ROCOF', 'V16_F_Range', 'I16_Mag', 'I16_Ang', 'I16_zero', 'I16_F_Undershoot', 'I16_F_Overshoot', 'I16_F_OS_Time', 'I16_F_Sett_Time', 'I16_ROCOF', 'I16_F_Range', 'V17_Mag', 'V17_Ang', 'V17_zero', 'V17_F_Undershoot', 'V17_F_Overshoot', 'V17_F_OS_Time', 'V17_F_Sett_Time', 'V17_ROCOF', 'V17_F_Range', 'I17_Mag', 'I17_Ang', 'I17_zero', 'I17_F_Undershoot', 'I17_F_Overshoot', 'I17_F_OS_Time', 'I17_F_Sett_Time', 'I17_ROCOF', 'I17_F_Range', 'V18_Mag', 'V18_Ang', 'V18_zero', 'V18_F_Undershoot', 'V18_F_Overshoot', 'V18_F_OS_Time', 'V18_F_Sett_Time', 'V18_ROCOF', 'V18_F_Range', 'I18_Mag', 'I18_Ang', 'I18_zero', 'I18_F_Undershoot', 'I18_F_Overshoot', 'I18_F_OS_Time', 'I18_F_Sett_Time', 'I18_ROCOF', 'I18_F_Range', 'V19_Mag', 'V19_Ang', 'V19_zero', 'V19_F_Undershoot', 'V19_F_Overshoot', 'V19_F_OS_Time', 'V19_F_Sett_Time', 'V19_ROCOF', 'V19_F_Range', 'I19_Mag', 'I19_Ang', 'I19_zero', 'I19_F_Undershoot', 'I19_F_Overshoot', 'I19_F_OS_Time', 'I19_F_Sett_Time', 'I19_ROCOF', 'I19_F_Range', 'V20_Mag', 'V20_Ang', 'V20_zero', 'V20_F_Undershoot', 'V20_F_Overshoot', 'V20_F_OS_Time', 'V20_F_Sett_Time', 'V20_ROCOF', 'V20_F_Range', 'I20_Mag', 'I20_Ang', 'I20_zero', 'I20_F_Undershoot', 'I20_F_Overshoot', 'I20_F_OS_Time', 'I20_F_Sett_Time', 'I20_ROCOF', 'I20_F_Range', 'V21_Mag', 'V21_Ang', 'V21_zero', 'V21_F_Undershoot', 'V21_F_Overshoot', 'V21_F_OS_Time', 'V21_F_Sett_Time', 'V21_ROCOF', 'V21_F_Range', 'I21_Mag', 'I21_Ang', 'I21_zero', 'I21_F_Undershoot', 'I21_F_Overshoot', 'I21_F_OS_Time', 'I21_F_Sett_Time', 'I21_ROCOF', 'I21_F_Range', 'V22_Mag', 'V22_Ang', 'V22_zero', 'V22_F_Undershoot', 'V22_F_Overshoot', 'V22_F_OS_Time', 'V22_F_Sett_Time', 'V22_ROCOF', 'V22_F_Range', 'I22_Mag', 'I22_Ang', 'I22_zero', 'I22_F_Undershoot', 'I22_F_Overshoot', 'I22_F_OS_Time', 'I22_F_Sett_Time', 'I22_ROCOF', 'I22_F_Range', 'V23_Mag', 'V23_Ang', 'V23_zero', 'V23_F_Undershoot', 'V23_F_Overshoot', 'V23_F_OS_Time', 'V23_F_Sett_Time', 'V23_ROCOF', 'V23_F_Range', 'I23_Mag', 'I23_Ang', 'I23_zero', 'I23_F_Undershoot', 'I23_F_Overshoot', 'I23_F_OS_Time', 'I23_F_Sett_Time', 'I23_ROCOF', 'I23_F_Range', 'V24_Mag', 'V24_Ang', 'V24_zero', 'V24_F_Undershoot', 'V24_F_Overshoot', 'V24_F_OS_Time', 'V24_F_Sett_Time', 'V24_ROCOF', 'V24_F_Range', 'I24_Mag', 'I24_Ang', 'I24_zero', 'I24_F_Undershoot', 'I24_F_Overshoot', 'I24_F_OS_Time', 'I24_F_Sett_Time', 'I24_ROCOF', 'I24_F_Range', 'V25_Mag', 'V25_Ang', 'V25_zero', 'V25_F_Undershoot', 'V25_F_Overshoot', 'V25_F_OS_Time', 'V25_F_Sett_Time', 'V25_ROCOF', 'V25_F_Range', 'I25_Mag', 'I25_Ang', 'I25_zero', 'I25_F_Undershoot', 'I25_F_Overshoot', 'I25_F_OS_Time', 'I25_F_Sett_Time', 'I25_ROCOF', 'I25_F_Range', 'V26_Mag', 'V26_Ang', 'V26_zero', 'V26_F_Undershoot', 'V26_F_Overshoot', 'V26_F_OS_Time', 'V26_F_Sett_Time', 'V26_ROCOF', 'V26_F_Range', 'I26_Mag', 'I26_Ang', 'I26_zero', 'I26_F_Undershoot', 'I26_F_Overshoot', 'I26_F_OS_Time', 'I26_F_Sett_Time', 'I26_ROCOF', 'I26_F_Range', 'V27_Mag', 'V27_Ang', 'V27_zero', 'V27_F_Undershoot', 'V27_F_Overshoot', 'V27_F_OS_Time', 'V27_F_Sett_Time', 'V27_ROCOF', 'V27_F_Range', 'I27_Mag', 'I27_Ang', 'I27_zero', 'I27_F_Undershoot', 'I27_F_Overshoot', 'I27_F_OS_Time', 'I27_F_Sett_Time', 'I27_ROCOF', 'I27_F_Range', 'V28_Mag', 'V28_Ang', 'V28_zero', 'V28_F_Undershoot', 'V28_F_Overshoot', 'V28_F_OS_Time', 'V28_F_Sett_Time', 'V28_ROCOF', 'V28_F_Range', 'I28_Mag', 'I28_Ang', 'I28_zero', 'I28_F_Undershoot', 'I28_F_Overshoot', 'I28_F_OS_Time', 'I28_F_Sett_Time', 'I28_ROCOF', 'I28_F_Range', 'V29_Mag', 'V29_Ang', 'V29_zero', 'V29_F_Undershoot', 'V29_F_Overshoot', 'V29_F_OS_Time', 'V29_F_Sett_Time', 'V29_ROCOF', 'V29_F_Range', 'I29_Mag', 'I29_Ang', 'I29_zero', 'I29_F_Undershoot', 'I29_F_Overshoot', 'I29_F_OS_Time', 'I29_F_Sett_Time', 'I29_ROCOF', 'I29_F_Range', 'V30_Mag', 'V30_Ang', 'V30_zero', 'V30_F_Undershoot', 'V30_F_Overshoot', 'V30_F_OS_Time', 'V30_F_Sett_Time', 'V30_ROCOF', 'V30_F_Range', 'I30_Mag', 'I30_Ang', 'I30_zero', 'I30_F_Undershoot', 'I30_F_Overshoot', 'I30_F_OS_Time', 'I30_F_Sett_Time', 'I30_ROCOF', 'I30_F_Range', 'V31_Mag', 'V31_Ang', 'V31_zero', 'V31_F_Undershoot', 'V31_F_Overshoot', 'V31_F_OS_Time', 'V31_F_Sett_Time', 'V31_ROCOF', 'V31_F_Range', 'I31_Mag', 'I31_Ang', 'I31_zero', 'I31_F_Undershoot', 'I31_F_Overshoot', 'I31_F_OS_Time', 'I31_F_Sett_Time', 'I31_ROCOF', 'I31_F_Range', 'V32_Mag', 'V32_Ang', 'V32_zero', 'V32_F_Undershoot', 'V32_F_Overshoot', 'V32_F_OS_Time', 'V32_F_Sett_Time', 'V32_ROCOF', 'V32_F_Range', 'I32_Mag', 'I32_Ang', 'I32_zero', 'I32_F_Undershoot', 'I32_F_Overshoot', 'I32_F_OS_Time', 'I32_F_Sett_Time', 'I32_ROCOF', 'I32_F_Range', 'V33_Mag', 'V33_Ang', 'V33_zero', 'V33_F_Undershoot', 'V33_F_Overshoot', 'V33_F_OS_Time', 'V33_F_Sett_Time', 'V33_ROCOF', 'V33_F_Range', 'I33_Mag', 'I33_Ang', 'I33_zero', 'I33_F_Undershoot', 'I33_F_Overshoot', 'I33_F_OS_Time', 'I33_F_Sett_Time', 'I33_ROCOF', 'I33_F_Range', 'V34_Mag', 'V34_Ang', 'V34_zero', 'V34_F_Undershoot', 'V34_F_Overshoot', 'V34_F_OS_Time', 'V34_F_Sett_Time', 'V34_ROCOF', 'V34_F_Range', 'I34_Mag', 'I34_Ang', 'I34_zero', 'I34_F_Undershoot', 'I34_F_Overshoot', 'I34_F_OS_Time', 'I34_F_Sett_Time', 'I34_ROCOF', 'I34_F_Range', 'V35_Mag', 'V35_Ang', 'V35_zero', 'V35_F_Undershoot', 'V35_F_Overshoot', 'V35_F_OS_Time', 'V35_F_Sett_Time', 'V35_ROCOF', 'V35_F_Range', 'I35_Mag', 'I35_Ang', 'I35_zero', 'I35_F_Undershoot', 'I35_F_Overshoot', 'I35_F_OS_Time', 'I35_F_Sett_Time', 'I35_ROCOF', 'I35_F_Range', 'V36_Mag', 'V36_Ang', 'V36_zero', 'V36_F_Undershoot', 'V36_F_Overshoot', 'V36_F_OS_Time', 'V36_F_Sett_Time', 'V36_ROCOF', 'V36_F_Range', 'I36_Mag', 'I36_Ang', 'I36_zero', 'I36_F_Undershoot', 'I36_F_Overshoot', 'I36_F_OS_Time', 'I36_F_Sett_Time', 'I36_ROCOF', 'I36_F_Range', 'V37_Mag', 'V37_Ang', 'V37_zero', 'V37_F_Undershoot', 'V37_F_Overshoot', 'V37_F_OS_Time', 'V37_F_Sett_Time', 'V37_ROCOF', 'V37_F_Range', 'I37_Mag', 'I37_Ang', 'I37_zero', 'I37_F_Undershoot', 'I37_F_Overshoot', 'I37_F_OS_Time', 'I37_F_Sett_Time', 'I37_ROCOF', 'I37_F_Range', 'V38_Mag', 'V38_Ang', 'V38_zero', 'V38_F_Undershoot', 'V38_F_Overshoot', 'V38_F_OS_Time', 'V38_F_Sett_Time', 'V38_ROCOF', 'V38_F_Range', 'I38_Mag', 'I38_Ang', 'I38_zero', 'I38_F_Undershoot', 'I38_F_Overshoot', 'I38_F_OS_Time', 'I38_F_Sett_Time', 'I38_ROCOF', 'I38_F_Range', 'V39_Mag', 'V39_Ang', 'V39_zero', 'V39_F_Undershoot', 'V39_F_Overshoot', 'V39_F_OS_Time', 'V39_F_Sett_Time', 'V39_ROCOF', 'V39_F_Range', 'I39_Mag', 'I39_Ang', 'I39_zero', 'I39_F_Undershoot', 'I39_F_Overshoot', 'I39_F_OS_Time', 'I39_F_Sett_Time', 'I39_ROCOF', 'I39_F_Range', 'V40_Mag', 'V40_Ang', 'V40_zero', 'V40_F_Undershoot', 'V40_F_Overshoot', 'V40_F_OS_Time', 'V40_F_Sett_Time', 'V40_ROCOF', 'V40_F_Range', 'I40_Mag', 'I40_Ang', 'I40_zero', 'I40_F_Undershoot', 'I40_F_Overshoot', 'I40_F_OS_Time', 'I40_F_Sett_Time', 'I40_ROCOF', 'I40_F_Range', 'V41_Mag', 'V41_Ang', 'V41_zero', 'V41_F_Undershoot', 'V41_F_Overshoot', 'V41_F_OS_Time', 'V41_F_Sett_Time', 'V41_ROCOF', 'V41_F_Range', 'I41_Mag', 'I41_Ang', 'I41_zero', 'I41_F_Undershoot', 'I41_F_Overshoot', 'I41_F_OS_Time', 'I41_F_Sett_Time', 'I41_ROCOF', 'I41_F_Range', 'V42_Mag', 'V42_Ang', 'V42_zero', 'V42_F_Undershoot', 'V42_F_Overshoot', 'V42_F_OS_Time', 'V42_F_Sett_Time', 'V42_ROCOF', 'V42_F_Range', 'I42_Mag', 'I42_Ang', 'I42_zero', 'I42_F_Undershoot', 'I42_F_Overshoot', 'I42_F_OS_Time', 'I42_F_Sett_Time', 'I42_ROCOF', 'I42_F_Range', 'V43_Mag', 'V43_Ang', 'V43_zero', 'V43_F_Undershoot', 'V43_F_Overshoot', 'V43_F_OS_Time', 'V43_F_Sett_Time', 'V43_ROCOF', 'V43_F_Range', 'I43_Mag', 'I43_Ang', 'I43_zero', 'I43_F_Undershoot', 'I43_F_Overshoot', 'I43_F_OS_Time', 'I43_F_Sett_Time', 'I43_ROCOF', 'I43_F_Range', 'V44_Mag', 'V44_Ang', 'V44_zero', 'V44_F_Undershoot', 'V44_F_Overshoot', 'V44_F_OS_Time', 'V44_F_Sett_Time', 'V44_ROCOF', 'V44_F_Range', 'I44_Mag', 'I44_Ang', 'I44_zero', 'I44_F_Undershoot', 'I44_F_Overshoot', 'I44_F_OS_Time', 'I44_F_Sett_Time', 'I44_ROCOF', 'I44_F_Range', 'V45_Mag', 'V45_Ang', 'V45_zero', 'V45_F_Undershoot', 'V45_F_Overshoot', 'V45_F_OS_Time', 'V45_F_Sett_Time', 'V45_ROCOF', 'V45_F_Range', 'I45_Mag', 'I45_Ang', 'I45_zero', 'I45_F_Undershoot', 'I45_F_Overshoot', 'I45_F_OS_Time', 'I45_F_Sett_Time', 'I45_ROCOF', 'I45_F_Range', 'V46_Mag', 'V46_Ang', 'V46_zero', 'V46_F_Undershoot', 'V46_F_Overshoot', 'V46_F_OS_Time', 'V46_F_Sett_Time', 'V46_ROCOF', 'V46_F_Range', 'I46_Mag', 'I46_Ang', 'I46_zero', 'I46_F_Undershoot', 'I46_F_Overshoot', 'I46_F_OS_Time', 'I46_F_Sett_Time', 'I46_ROCOF', 'I46_F_Range', 'V47_Mag', 'V47_Ang', 'V47_zero', 'V47_F_Undershoot', 'V47_F_Overshoot', 'V47_F_OS_Time', 'V47_F_Sett_Time', 'V47_ROCOF', 'V47_F_Range', 'I47_Mag', 'I47_Ang', 'I47_zero', 'I47_F_Undershoot', 'I47_F_Overshoot', 'I47_F_OS_Time', 'I47_F_Sett_Time', 'I47_ROCOF', 'I47_F_Range', 'V48_Mag', 'V48_Ang', 'V48_zero', 'V48_F_Undershoot', 'V48_F_Overshoot', 'V48_F_OS_Time', 'V48_F_Sett_Time', 'V48_ROCOF', 'V48_F_Range', 'I48_Mag', 'I48_Ang', 'I48_zero', 'I48_F_Undershoot', 'I48_F_Overshoot', 'I48_F_OS_Time', 'I48_F_Sett_Time', 'I48_ROCOF', 'I48_F_Range', 'V49_Mag', 'V49_Ang', 'V49_zero', 'V49_F_Undershoot', 'V49_F_Overshoot', 'V49_F_OS_Time', 'V49_F_Sett_Time', 'V49_ROCOF', 'V49_F_Range', 'I49_Mag', 'I49_Ang', 'I49_zero', 'I49_F_Undershoot', 'I49_F_Overshoot', 'I49_F_OS_Time', 'I49_F_Sett_Time', 'I49_ROCOF', 'I49_F_Range', 'V50_Mag', 'V50_Ang', 'V50_zero', 'V50_F_Undershoot', 'V50_F_Overshoot', 'V50_F_OS_Time', 'V50_F_Sett_Time', 'V50_ROCOF', 'V50_F_Range', 'I50_Mag', 'I50_Ang', 'I50_zero', 'I50_F_Undershoot', 'I50_F_Overshoot', 'I50_F_OS_Time', 'I50_F_Sett_Time', 'I50_ROCOF', 'I50_F_Range', 'V51_Mag', 'V51_Ang', 'V51_zero', 'V51_F_Undershoot', 'V51_F_Overshoot', 'V51_F_OS_Time', 'V51_F_Sett_Time', 'V51_ROCOF', 'V51_F_Range', 'I51_Mag', 'I51_Ang', 'I51_zero', 'I51_F_Undershoot', 'I51_F_Overshoot', 'I51_F_OS_Time', 'I51_F_Sett_Time', 'I51_ROCOF', 'I51_F_Range', 'V52_Mag', 'V52_Ang', 'V52_zero', 'V52_F_Undershoot', 'V52_F_Overshoot', 'V52_F_OS_Time', 'V52_F_Sett_Time', 'V52_ROCOF', 'V52_F_Range', 'I52_Mag', 'I52_Ang', 'I52_zero', 'I52_F_Undershoot', 'I52_F_Overshoot', 'I52_F_OS_Time', 'I52_F_Sett_Time', 'I52_ROCOF', 'I52_F_Range', 'V53_Mag', 'V53_Ang', 'V53_zero', 'V53_F_Undershoot', 'V53_F_Overshoot', 'V53_F_OS_Time', 'V53_F_Sett_Time', 'V53_ROCOF', 'V53_F_Range', 'I53_Mag', 'I53_Ang', 'I53_zero', 'I53_F_Undershoot', 'I53_F_Overshoot', 'I53_F_OS_Time', 'I53_F_Sett_Time', 'I53_ROCOF', 'I53_F_Range', 'V54_Mag', 'V54_Ang', 'V54_zero', 'V54_F_Undershoot', 'V54_F_Overshoot', 'V54_F_OS_Time', 'V54_F_Sett_Time', 'V54_ROCOF', 'V54_F_Range', 'I54_Mag', 'I54_Ang', 'I54_zero', 'I54_F_Undershoot', 'I54_F_Overshoot', 'I54_F_OS_Time', 'I54_F_Sett_Time', 'I54_ROCOF', 'I54_F_Range', 'V55_Mag', 'V55_Ang', 'V55_zero', 'V55_F_Undershoot', 'V55_F_Overshoot', 'V55_F_OS_Time', 'V55_F_Sett_Time', 'V55_ROCOF', 'V55_F_Range', 'I55_Mag', 'I55_Ang', 'I55_zero', 'I55_F_Undershoot', 'I55_F_Overshoot', 'I55_F_OS_Time', 'I55_F_Sett_Time', 'I55_ROCOF', 'I55_F_Range', 'V56_Mag', 'V56_Ang', 'V56_zero', 'V56_F_Undershoot', 'V56_F_Overshoot', 'V56_F_OS_Time', 'V56_F_Sett_Time', 'V56_ROCOF', 'V56_F_Range', 'I56_Mag', 'I56_Ang', 'I56_zero', 'I56_F_Undershoot', 'I56_F_Overshoot', 'I56_F_OS_Time', 'I56_F_Sett_Time', 'I56_ROCOF', 'I56_F_Range', 'V57_Mag', 'V57_Ang', 'V57_zero', 'V57_F_Undershoot', 'V57_F_Overshoot', 'V57_F_OS_Time', 'V57_F_Sett_Time', 'V57_ROCOF', 'V57_F_Range', 'I57_Mag', 'I57_Ang', 'I57_zero', 'I57_F_Undershoot', 'I57_F_Overshoot', 'I57_F_OS_Time', 'I57_F_Sett_Time', 'I57_ROCOF', 'I57_F_Range', 'V58_Mag', 'V58_Ang', 'V58_zero', 'V58_F_Undershoot', 'V58_F_Overshoot', 'V58_F_OS_Time', 'V58_F_Sett_Time', 'V58_ROCOF', 'V58_F_Range', 'I58_Mag', 'I58_Ang', 'I58_zero', 'I58_F_Undershoot', 'I58_F_Overshoot', 'I58_F_OS_Time', 'I58_F_Sett_Time', 'I58_ROCOF', 'I58_F_Range', 'V59_Mag', 'V59_Ang', 'V59_zero', 'V59_F_Undershoot', 'V59_F_Overshoot', 'V59_F_OS_Time', 'V59_F_Sett_Time', 'V59_ROCOF', 'V59_F_Range', 'I59_Mag', 'I59_Ang', 'I59_zero', 'I59_F_Undershoot', 'I59_F_Overshoot', 'I59_F_OS_Time', 'I59_F_Sett_Time', 'I59_ROCOF', 'I59_F_Range', 'V60_Mag', 'V60_Ang', 'V60_zero', 'V60_F_Undershoot', 'V60_F_Overshoot', 'V60_F_OS_Time', 'V60_F_Sett_Time', 'V60_ROCOF', 'V60_F_Range', 'I60_Mag', 'I60_Ang', 'I60_zero', 'I60_F_Undershoot', 'I60_F_Overshoot', 'I60_F_OS_Time', 'I60_F_Sett_Time', 'I60_ROCOF', 'I60_F_Range', 'V61_Mag', 'V61_Ang', 'V61_zero', 'V61_F_Undershoot', 'V61_F_Overshoot', 'V61_F_OS_Time', 'V61_F_Sett_Time', 'V61_ROCOF', 'V61_F_Range', 'I61_Mag', 'I61_Ang', 'I61_zero', 'I61_F_Undershoot', 'I61_F_Overshoot', 'I61_F_OS_Time', 'I61_F_Sett_Time', 'I61_ROCOF', 'I61_F_Range', 'V62_Mag', 'V62_Ang', 'V62_zero', 'V62_F_Undershoot', 'V62_F_Overshoot', 'V62_F_OS_Time', 'V62_F_Sett_Time', 'V62_ROCOF', 'V62_F_Range', 'I62_Mag', 'I62_Ang', 'I62_zero', 'I62_F_Undershoot', 'I62_F_Overshoot', 'I62_F_OS_Time', 'I62_F_Sett_Time', 'I62_ROCOF', 'I62_F_Range', 'V63_Mag', 'V63_Ang', 'V63_zero', 'V63_F_Undershoot', 'V63_F_Overshoot', 'V63_F_OS_Time', 'V63_F_Sett_Time', 'V63_ROCOF', 'V63_F_Range', 'I63_Mag', 'I63_Ang', 'I63_zero', 'I63_F_Undershoot', 'I63_F_Overshoot', 'I63_F_OS_Time', 'I63_F_Sett_Time', 'I63_ROCOF', 'I63_F_Range', 'V64_Mag', 'V64_Ang', 'V64_zero', 'V64_F_Undershoot', 'V64_F_Overshoot', 'V64_F_OS_Time', 'V64_F_Sett_Time', 'V64_ROCOF', 'V64_F_Range', 'I64_Mag', 'I64_Ang', 'I64_zero', 'I64_F_Undershoot', 'I64_F_Overshoot', 'I64_F_OS_Time', 'I64_F_Sett_Time', 'I64_ROCOF', 'I64_F_Range', 'V65_Mag', 'V65_Ang', 'V65_zero', 'V65_F_Undershoot', 'V65_F_Overshoot', 'V65_F_OS_Time', 'V65_F_Sett_Time', 'V65_ROCOF', 'V65_F_Range', 'I65_Mag', 'I65_Ang', 'I65_zero', 'I65_F_Undershoot', 'I65_F_Overshoot', 'I65_F_OS_Time', 'I65_F_Sett_Time', 'I65_ROCOF', 'I65_F_Range', 'V66_Mag', 'V66_Ang', 'V66_zero', 'V66_F_Undershoot', 'V66_F_Overshoot', 'V66_F_OS_Time', 'V66_F_Sett_Time', 'V66_ROCOF', 'V66_F_Range', 'I66_Mag', 'I66_Ang', 'I66_zero', 'I66_F_Undershoot', 'I66_F_Overshoot', 'I66_F_OS_Time', 'I66_F_Sett_Time', 'I66_ROCOF', 'I66_F_Range', 'V67_Mag', 'V67_Ang', 'V67_zero', 'V67_F_Undershoot', 'V67_F_Overshoot', 'V67_F_OS_Time', 'V67_F_Sett_Time', 'V67_ROCOF', 'V67_F_Range', 'I67_Mag', 'I67_Ang', 'I67_zero', 'I67_F_Undershoot', 'I67_F_Overshoot', 'I67_F_OS_Time', 'I67_F_Sett_Time', 'I67_ROCOF', 'I67_F_Range', 'V68_Mag', 'V68_Ang', 'V68_zero', 'V68_F_Undershoot', 'V68_F_Overshoot', 'V68_F_OS_Time', 'V68_F_Sett_Time', 'V68_ROCOF', 'V68_F_Range', 'I68_Mag', 'I68_Ang', 'I68_zero', 'I68_F_Undershoot', 'I68_F_Overshoot', 'I68_F_OS_Time', 'I68_F_Sett_Time', 'I68_ROCOF', 'I68_F_Range', 'V69_Mag', 'V69_Ang', 'V69_zero', 'V69_F_Undershoot', 'V69_F_Overshoot', 'V69_F_OS_Time', 'V69_F_Sett_Time', 'V69_ROCOF', 'V69_F_Range', 'I69_Mag', 'I69_Ang', 'I69_zero', 'I69_F_Undershoot', 'I69_F_Overshoot', 'I69_F_OS_Time', 'I69_F_Sett_Time', 'I69_ROCOF', 'I69_F_Range']\n"
     ]
    }
   ],
   "source": [
    "print(column_names)"
   ]
  },
  {
   "cell_type": "code",
   "execution_count": 45,
   "metadata": {
    "id": "Cv-ejU34uoJa"
   },
   "outputs": [],
   "source": [
    "\n",
    "######\n",
    "needed_PMUs = [61,1,2,14,21,6,10,12,13,51,68,56,16,15,57,65,5,50,63,9,48,58,33,37,40,41,47,60,69,59,49,53] # use list(range(1,15)) for all PMUs. For specific PMUs use normal list ex. [1,3]\n",
    "filtered_cols = np.empty([0], dtype=int)\n",
    "######"
   ]
  },
  {
   "cell_type": "code",
   "execution_count": 46,
   "metadata": {
    "id": "Fk-hj2iBm27e"
   },
   "outputs": [],
   "source": [
    "for i in needed_PMUs:\n",
    "  filtered_cols =  np.append(filtered_cols, fnmatch.filter(column_names, '?%s_*' % (i)))\n",
    "\n",
    "fea_all = table[filtered_cols].copy()\n",
    "################################\n",
    "#fea_all = table.copy()\n",
    "#fea_all.info()\n",
    "\n",
    "\n",
    "# Pick the label\n",
    "# column 5 fault or attack (1-> attack)\n",
    "# column 6 for Fault_Type label\n",
    "# column 7 for Fault_Location Label\n",
    "# column 8 for Distance Label\n",
    "\n",
    "\n",
    "label_fault_flag = table.iloc[: ,2].copy()\n",
    "label_fault_type = table.iloc[: ,4].copy()\n",
    "label_fault_location = table.iloc[: ,5].copy()\n",
    "label_distance = table.iloc[: ,6].copy()\n",
    "\n",
    "\n",
    "# Normalize the data\n",
    "scaler = StandardScaler()\n",
    "fea_all = scaler.fit_transform (fea_all)\n",
    "\n",
    "X = fea_all\n",
    "y_fault_flag = label_fault_flag\n",
    "y_fault_type = label_fault_type\n",
    "y_fault_location = label_fault_location\n",
    "y_distance = label_distance"
   ]
  },
  {
   "cell_type": "code",
   "execution_count": 47,
   "metadata": {
    "id": "2hQ9eSjp2v0E"
   },
   "outputs": [],
   "source": [
    "def classifaction_report_csv(report,writer):\n",
    "    report_data = []\n",
    "    lines = report.split('\\n')\n",
    "    for line in lines:\n",
    "        row = []\n",
    "        row_data = line.split('      ')\n",
    "        for st in row_data:\n",
    "          stripped = st.strip()\n",
    "          #print(stripped)\n",
    "          row.append(stripped)\n",
    "        writer.writerow(row)\n",
    "\n"
   ]
  },
  {
   "cell_type": "code",
   "execution_count": 48,
   "metadata": {
    "id": "yJgzKbIu2t8f"
   },
   "outputs": [],
   "source": [
    "def write_results(label, scores, y, y_pred, exp_name, exp_num):\n",
    "    file_name = FILE_DIRECTORY + label\n",
    "    file_exists = os.path.isfile(file_name)\n",
    "\n",
    "    with open(file_name, 'a', newline='') as file:\n",
    "        writer = csv.writer(file)\n",
    "        if not file_exists:\n",
    "            writer.writerow([\"Experiment Name\"])\n",
    "        writer.writerow([''])\n",
    "        writer.writerow([''])\n",
    "        writer.writerow(['-----------------------------------'])\n",
    "        writer.writerow([''])\n",
    "        writer.writerow([''])\n",
    "        writer.writerow([exp_name])\n",
    "        writer.writerow([f\"Exp {exp_num}\"])\n",
    "        writer.writerow([str(\"Training Scores are: \")])\n",
    "        writer.writerow([''])\n",
    "        writer.writerow(scores['train_score'] * 100)\n",
    "        writer.writerow([str(\"Average Training Score is: \"), str(np.array(scores['train_score'].mean() * 100))])\n",
    "        writer.writerow([''])\n",
    "        writer.writerow([str(\"Testing Scores are: \")])\n",
    "        writer.writerow(scores['test_score'] * 100)\n",
    "        writer.writerow([str(\"Average Testing Score is: \"), str(scores['test_score'].mean() * 100)])\n",
    "        writer.writerow([''])\n",
    "        writer.writerow([str(\"Classification Report for all data: \")])\n",
    "        report = classification_report(y, y_pred)\n",
    "        classifaction_report_csv(report, writer)\n",
    "        matrix = confusion_matrix(y, y_pred)\n",
    "        writer.writerow([''])\n",
    "        writer.writerow([str(\"Confusion matrix, without normalization\")])\n",
    "        writer.writerows(matrix)\n",
    "        matrix_normalized = confusion_matrix(y, y_pred, normalize='true')\n",
    "        writer.writerow([str(\"Normalized confusion matrix\")])\n",
    "        writer.writerows(matrix_normalized)\n",
    "\n",
    "\n"
   ]
  },
  {
   "cell_type": "code",
   "execution_count": 31,
   "metadata": {
    "id": "iD1AWQMQvEB_"
   },
   "outputs": [],
   "source": [
    "clf = LinearSVC(random_state = 42, max_iter=1200000)\n",
    "stratifiedkf=StratifiedKFold(n_splits=10)\n",
    "\n",
    "scores= cross_validate(clf, X, y_fault_flag, cv=stratifiedkf, return_train_score=True, return_estimator=True)\n",
    "y_pred = cross_val_predict(clf, X, y_fault_flag, cv=stratifiedkf)\n",
    "write_results (\"results\" + \"_fault_flag.csv\",scores, y_fault_flag, y_pred, exp_name, exp_num)\n",
    "#write_detailed_results(\"detailed_results_exp\"+ str(exp_num) + \"_fault_location.csv\", X, y_fault_location, y_pred)"
   ]
  },
  {
   "cell_type": "code",
   "execution_count": 32,
   "metadata": {
    "id": "kPo-KRS4vTP3"
   },
   "outputs": [],
   "source": [
    "\n",
    "\n",
    "# Filter data where FaultFlag=1 for other classifiers and regressor\n",
    "X = fea_all[y_fault_flag == 1]\n",
    "y_fault_type = y_fault_type[y_fault_flag == 1]\n",
    "y_fault_location = y_fault_location[y_fault_flag == 1]\n",
    "y_distance = y_distance[y_fault_flag == 1]"
   ]
  },
  {
   "cell_type": "code",
   "execution_count": 33,
   "metadata": {
    "colab": {
     "background_save": true
    },
    "id": "sJUXfA2cY-Op"
   },
   "outputs": [],
   "source": [
    "\n",
    "\n",
    "clf = LinearSVC(random_state = 42, max_iter=1200000)\n",
    "stratifiedkf=StratifiedKFold(n_splits=10)\n",
    "\n",
    "scores= cross_validate(clf, X, y_fault_type, cv=stratifiedkf, return_train_score=True, return_estimator=True)\n",
    "y_pred = cross_val_predict(clf, X, y_fault_type, cv=stratifiedkf)\n",
    "write_results(\"results_exp_fault_type.csv\", scores, y_fault_type, y_pred, exp_name, exp_num)\n",
    "#write_detailed_results(\"detailed_results_exp\"+ str(exp_num) + \"_fault_type.csv\", y_fault_type, y_fault_location, y_distance, y_pred)"
   ]
  },
  {
   "cell_type": "code",
   "execution_count": 34,
   "metadata": {
    "id": "3eynzVjKm5_v"
   },
   "outputs": [
    {
     "name": "stdout",
     "output_type": "stream",
     "text": [
      "[44 60 34 ... 64 38 61]\n",
      "0        42\n",
      "1        59\n",
      "2        34\n",
      "3        59\n",
      "4        67\n",
      "         ..\n",
      "24994    21\n",
      "24995    10\n",
      "24997    64\n",
      "24998    38\n",
      "24999    62\n",
      "Name: Fault_Location, Length: 22500, dtype: int64\n"
     ]
    }
   ],
   "source": [
    "\n",
    "\n",
    "\n",
    "\n",
    "\n",
    "clf = LinearSVC(random_state = 42, max_iter=1200000)\n",
    "stratifiedkf=StratifiedKFold(n_splits=10)\n",
    "\n",
    "scores= cross_validate(clf, X, y_fault_location, cv=stratifiedkf, return_train_score=True, return_estimator=True)\n",
    "y_pred = cross_val_predict(clf, X, y_fault_location, cv=stratifiedkf)\n",
    "write_results(\"results_exp_fault_location.csv\", scores, y_fault_location, y_pred, exp_name, exp_num)\n",
    "#write_detailed_results(\"detailed_results_exp\"+ str(exp_num) + \"_fault_location.csv\", X, y_fault_location, y_pred)\n",
    "\n",
    "\n",
    "print(y_pred)\n",
    "print(y_fault_location)"
   ]
  },
  {
   "cell_type": "code",
   "execution_count": 35,
   "metadata": {
    "id": "EWG3DgqgGRJ0"
   },
   "outputs": [
    {
     "name": "stdout",
     "output_type": "stream",
     "text": [
      "0        15\n",
      "1        10\n",
      "2        25\n",
      "3        55\n",
      "4        10\n",
      "         ..\n",
      "24994    80\n",
      "24995    10\n",
      "24997    80\n",
      "24998    30\n",
      "24999    10\n",
      "Name: Fault_Distance, Length: 22500, dtype: int64\n"
     ]
    }
   ],
   "source": [
    "print(y_distance)"
   ]
  },
  {
   "cell_type": "markdown",
   "metadata": {
    "id": "AOJsi02Um-13"
   },
   "source": [
    "# Random Forest regression for the distance label\n",
    "\n",
    "RF_reg = RandomForestRegressor(n_estimators=50,random_state=80)\n",
    "stratifiedkf=StratifiedKFold(n_splits=10)\n",
    "\n",
    "scores= cross_validate(RF_reg, X, y_distance, cv=stratifiedkf, return_train_score=True, return_estimator=True, scoring=( 'neg_mean_squared_error','neg_root_mean_squared_error','r2','neg_mean_absolute_error','neg_mean_absolute_percentage_error'))\n",
    "y_pred = cross_val_predict(RF_reg, X, y_distance, cv=stratifiedkf)\n",
    "np.set_printoptions(formatter={'float': lambda x: \"{0:0.2f}\".format(x)})\n"
   ]
  },
  {
   "cell_type": "code",
   "execution_count": 49,
   "metadata": {
    "id": "WjLCQER9JzmJ"
   },
   "outputs": [],
   "source": [
    "RF_reg = RandomForestRegressor(n_estimators=50,random_state=80)\n",
    "stratifiedkf=StratifiedKFold(n_splits=10)\n",
    "\n",
    "scores= cross_validate(RF_reg, X, y_distance, cv=stratifiedkf, return_train_score=True, return_estimator=True, scoring=( 'neg_mean_squared_error','neg_root_mean_squared_error','r2','neg_mean_absolute_error','neg_mean_absolute_percentage_error'))\n",
    "y_pred = cross_val_predict(RF_reg, X, y_distance, cv=stratifiedkf)\n",
    "np.set_printoptions(formatter={'float': lambda x: \"{0:0.2f}\".format(x)})"
   ]
  },
  {
   "cell_type": "code",
   "execution_count": 50,
   "metadata": {
    "id": "6E6wtgf_poft"
   },
   "outputs": [],
   "source": [
    "file_name = FILE_DIRECTORY + \"results_exp_distance.csv\"\n",
    "file_exists = os.path.isfile(file_name)\n",
    "\n",
    "with open(file_name, 'a', newline='') as file:\n",
    "    writer = csv.writer(file)\n",
    "    if not file_exists:\n",
    "        writer.writerow([\"Experiment Name\"])\n",
    "    writer.writerow([''])\n",
    "    writer.writerow([''])\n",
    "    writer.writerow(['-----------------------------------'])\n",
    "    writer.writerow([''])\n",
    "    writer.writerow([''])\n",
    "    writer.writerow([exp_name])\n",
    "    writer.writerow([f\"Exp {exp_num}\"])\n",
    "    writer.writerow([\"Train Mean squared error: \"])\n",
    "    writer.writerow(scores['train_neg_mean_squared_error'])\n",
    "    writer.writerow([\"Average Train Mean squared error: \", str(round(scores['train_neg_mean_squared_error'].mean(), 2))])\n",
    "    writer.writerow([''])\n",
    "    writer.writerow([\"Train Root Mean squared error: \"])\n",
    "    writer.writerow(scores['train_neg_root_mean_squared_error'])\n",
    "    writer.writerow([\"Average Train Root Mean squared error: \", str(round(scores['train_neg_root_mean_squared_error'].mean(), 2))])\n",
    "    writer.writerow([''])\n",
    "    writer.writerow([\"Train R2: \"])\n",
    "    writer.writerow(scores['train_r2'])\n",
    "    writer.writerow([\"Average Train R2: \", str(round(scores['train_r2'].mean(), 2))])\n",
    "    writer.writerow([''])\n",
    "    writer.writerow([\"Train Mean absolute error: \"])\n",
    "    writer.writerow(scores['train_neg_mean_absolute_error'])\n",
    "    writer.writerow([\"Average Train Mean absolute error: \", str(round(scores['train_neg_mean_absolute_error'].mean(), 2))])\n",
    "    writer.writerow([''])\n",
    "    writer.writerow([\"Train mean absolute percentage error: \"])\n",
    "    writer.writerow(scores['train_neg_mean_absolute_percentage_error'])\n",
    "    writer.writerow([\"Average Train mean absolute percentage error: \", str(round(scores['train_neg_mean_absolute_percentage_error'].mean(), 2))])\n",
    "    writer.writerow([''])\n",
    "    writer.writerow([''])\n",
    "    writer.writerow([\"Test Mean squared error: \"])\n",
    "    writer.writerow(scores['test_neg_mean_squared_error'])\n",
    "    writer.writerow([\"Average Test Mean squared error: \", str(round(scores['test_neg_mean_squared_error'].mean(), 2))])\n",
    "    writer.writerow([''])\n",
    "    writer.writerow([\"Test Root Mean squared error: \"])\n",
    "    writer.writerow(scores['test_neg_root_mean_squared_error'])\n",
    "    writer.writerow([\"Average Test Root Mean squared error: \", str(round(scores['test_neg_root_mean_squared_error'].mean(), 2))])\n",
    "    writer.writerow([''])\n",
    "    writer.writerow([\"Test R2: \"])\n",
    "    writer.writerow(scores['test_r2'])\n",
    "    writer.writerow([\"Average Test R2: \", str(round(scores['test_r2'].mean(), 2))])\n",
    "    writer.writerow([''])\n",
    "    writer.writerow([\"Test Mean absolute error: \"])\n",
    "    writer.writerow(scores['test_neg_mean_absolute_error'])\n",
    "    writer.writerow([\"Average Test Mean absolute error: \", str(round(scores['test_neg_mean_absolute_error'].mean(), 2))])\n",
    "    writer.writerow([''])\n",
    "    writer.writerow([\"Test mean absolute percentage error: \"])\n",
    "    writer.writerow(scores['test_neg_mean_absolute_percentage_error'])\n",
    "    writer.writerow([\"Average Test mean absolute percentage error: \", str(round(scores['test_neg_mean_absolute_percentage_error'].mean(), 2))])"
   ]
  },
  {
   "cell_type": "code",
   "execution_count": 51,
   "metadata": {
    "id": "xoN_aayRnCP3"
   },
   "outputs": [],
   "source": [
    "################################################################################\n"
   ]
  }
 ],
 "metadata": {
  "colab": {
   "gpuType": "T4",
   "provenance": []
  },
  "kernelspec": {
   "display_name": "research",
   "language": "python",
   "name": "python3"
  },
  "language_info": {
   "codemirror_mode": {
    "name": "ipython",
    "version": 3
   },
   "file_extension": ".py",
   "mimetype": "text/x-python",
   "name": "python",
   "nbconvert_exporter": "python",
   "pygments_lexer": "ipython3",
   "version": "3.10.16"
  }
 },
 "nbformat": 4,
 "nbformat_minor": 0
}
